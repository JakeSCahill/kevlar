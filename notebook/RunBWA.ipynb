{
 "cells": [
  {
   "cell_type": "code",
   "execution_count": 1,
   "metadata": {
    "collapsed": true
   },
   "outputs": [],
   "source": [
    "from __future__ import print_function\n",
    "import subprocess\n",
    "from tempfile import TemporaryFile\n",
    "import kevlar\n",
    "import khmer\n",
    "import pysam"
   ]
  },
  {
   "cell_type": "code",
   "execution_count": 2,
   "metadata": {
    "collapsed": true
   },
   "outputs": [],
   "source": [
    "def get_unique_kmers(sequence, ksize=31):\n",
    "    ct = khmer._Counttable(ksize, [1])\n",
    "    kmers = set()\n",
    "    for kmer in ct.get_kmers(sequence):\n",
    "        minkmer = kevlar.revcommin(kmer)\n",
    "        if minkmer not in kmers:\n",
    "            kmers.add(minkmer)\n",
    "            yield kmer"
   ]
  },
  {
   "cell_type": "code",
   "execution_count": 3,
   "metadata": {
    "collapsed": true
   },
   "outputs": [],
   "source": [
    "def unique_kmer_string(infile, ksize=31):\n",
    "    output = ''\n",
    "    instream = open(infile, 'r')\n",
    "    for defline, sequence in kevlar.seqio.parse_fasta(instream):\n",
    "        for n, kmer in enumerate(get_unique_kmers(sequence, ksize)):\n",
    "            output += '>kmer{:d}\\n{:s}\\n'.format(n, kmer)\n",
    "    return output"
   ]
  },
  {
   "cell_type": "code",
   "execution_count": 4,
   "metadata": {
    "collapsed": true
   },
   "outputs": [],
   "source": [
    "def get_exact_matches(infile, bwaindexfile, ksize=31):\n",
    "    kmers = unique_kmer_string(infile, ksize)\n",
    "    cmd = 'bwa mem -k {k} -T {k} {idx} -'.format(k=ksize, idx=bwaindexfile)\n",
    "    cmdargs = cmd.split(' ')\n",
    "    with TemporaryFile() as samfile:\n",
    "        bwaproc = subprocess.Popen(cmdargs, stdin=subprocess.PIPE, stdout=samfile, universal_newlines=True)\n",
    "        stdout, stderr = bwaproc.communicate(input=kmers)\n",
    "        samfile.seek(0)\n",
    "        sam = pysam.AlignmentFile(samfile, 'r')\n",
    "        for record in sam:\n",
    "            if record.is_unmapped:\n",
    "                continue\n",
    "            seqid = sam.get_reference_name(record.reference_id)\n",
    "            yield seqid, record.pos"
   ]
  },
  {
   "cell_type": "code",
   "execution_count": 5,
   "metadata": {
    "collapsed": false
   },
   "outputs": [
    {
     "name": "stdout",
     "output_type": "stream",
     "text": [
      "1527048 1527201\n"
     ]
    }
   ],
   "source": [
    "matchgen = get_exact_matches('human-sim-pico/part.cc9.fa', 'human-sim-pico/human.random.fa', ksize=25)\n",
    "matches = [m for m in matchgen]\n",
    "len(matches)\n",
    "minpos = min([p for s, p in matches])\n",
    "maxpos = max([p for s, p in matches])\n",
    "print(minpos, maxpos)"
   ]
  },
  {
   "cell_type": "code",
   "execution_count": 6,
   "metadata": {
    "collapsed": true
   },
   "outputs": [],
   "source": [
    "def select_region(matchlist, maxdiff=1000, delta=100):\n",
    "    seqids = set([s for s, p in matchlist])\n",
    "    if len(seqids) > 1:\n",
    "        return None\n",
    "\n",
    "    minpos = min([p for s, p in matchlist])\n",
    "    maxpos = max([p for s, p in matchlist])\n",
    "    if maxpos - minpos > maxdiff:\n",
    "        return None\n",
    "    return seqids.pop(), minpos-100, maxpos+100"
   ]
  },
  {
   "cell_type": "code",
   "execution_count": 7,
   "metadata": {
    "collapsed": false
   },
   "outputs": [
    {
     "data": {
      "text/plain": [
       "('seq1', 1526948, 1527301)"
      ]
     },
     "execution_count": 7,
     "metadata": {},
     "output_type": "execute_result"
    }
   ],
   "source": [
    "select_region(matches)"
   ]
  },
  {
   "cell_type": "code",
   "execution_count": 8,
   "metadata": {
    "collapsed": false
   },
   "outputs": [
    {
     "data": {
      "text/plain": [
       "153"
      ]
     },
     "execution_count": 8,
     "metadata": {},
     "output_type": "execute_result"
    }
   ],
   "source": [
    "1527201 - 1527048"
   ]
  },
  {
   "cell_type": "code",
   "execution_count": null,
   "metadata": {
    "collapsed": true
   },
   "outputs": [],
   "source": []
  }
 ],
 "metadata": {
  "kernelspec": {
   "display_name": "Python 3",
   "language": "python",
   "name": "python3"
  },
  "language_info": {
   "codemirror_mode": {
    "name": "ipython",
    "version": 3
   },
   "file_extension": ".py",
   "mimetype": "text/x-python",
   "name": "python",
   "nbconvert_exporter": "python",
   "pygments_lexer": "ipython3",
   "version": "3.5.2"
  }
 },
 "nbformat": 4,
 "nbformat_minor": 2
}
