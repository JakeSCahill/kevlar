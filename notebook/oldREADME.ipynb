{
 "cells": [
  {
   "cell_type": "markdown",
   "metadata": {},
   "source": [
    "# Variant discovery with *k*-mers\n",
    "\n",
    "## Introduction\n",
    "\n",
    "Lorem ipsum..."
   ]
  },
  {
   "cell_type": "markdown",
   "metadata": {},
   "source": [
    "## Methods\n",
    "\n",
    "### Data retrieval\n",
    "\n",
    "Input data for this study was derived from the YRI trio from the 1000 Genomes project (NA19238, NA19239, and NA19240).\n",
    "126-bp paired-end PCR-free Illumina reads from each individual in the trio were mapped to the \"[GRCh38 full analysis plus decoy hla](ftp://ftp.1000genomes.ebi.ac.uk/vol1/ftp/technical/reference/GRCh38_reference_genome/GRCh38_full_analysis_set_plus_decoy_hla.fa)\" reference genome, producing a single BAM alignment file for each sample.\n",
    "No details are available regarding the mapping software or parameters used, nor pre-mapping quality control performed on the reads, if any.\n",
    "Raw unprocessed reads are available, and associated URLs can be retrieved using the following shell command."
   ]
  },
  {
   "cell_type": "code",
   "execution_count": 1,
   "metadata": {
    "collapsed": false
   },
   "outputs": [
    {
     "name": "stdout",
     "output_type": "stream",
     "text": [
      "  % Total    % Received % Xferd  Average Speed   Time    Time     Time  Current\n",
      "                                 Dload  Upload   Total   Spent    Left  Speed\n",
      "100 2222k  100 2222k    0     0  49180      0  0:00:46  0:00:46 --:--:-- 63472\n",
      "ftp://ftp.sra.ebi.ac.uk/vol1/fastq/ERR903/ERR903025/ERR903025_2.fastq.gz\n",
      "ftp://ftp.sra.ebi.ac.uk/vol1/fastq/ERR903/ERR903025/ERR903025_1.fastq.gz\n",
      "ftp://ftp.sra.ebi.ac.uk/vol1/fastq/ERR894/ERR894720/ERR894720_2.fastq.gz\n",
      "ftp://ftp.sra.ebi.ac.uk/vol1/fastq/ERR894/ERR894720/ERR894720_1.fastq.gz\n",
      "ftp://ftp.sra.ebi.ac.uk/vol1/fastq/ERR899/ERR899706/ERR899706_2.fastq.gz\n",
      "ftp://ftp.sra.ebi.ac.uk/vol1/fastq/ERR899/ERR899706/ERR899706_1.fastq.gz\n",
      "ftp://ftp.sra.ebi.ac.uk/vol1/fastq/ERR894/ERR894719/ERR894719_2.fastq.gz\n",
      "ftp://ftp.sra.ebi.ac.uk/vol1/fastq/ERR894/ERR894719/ERR894719_1.fastq.gz\n",
      "ftp://ftp.sra.ebi.ac.uk/vol1/fastq/ERR899/ERR899705/ERR899705_1.fastq.gz\n",
      "ftp://ftp.sra.ebi.ac.uk/vol1/fastq/ERR899/ERR899705/ERR899705_2.fastq.gz\n"
     ]
    }
   ],
   "source": [
    "!curl http://ftp.1000genomes.ebi.ac.uk/vol1/ftp/data_collections/hgsv_sv_discovery/illumina_wgs.sequence.index \\\n",
    "    | grep $'\\tNA19238\\t' \\\n",
    "    | grep 'Illumina PCR Free' \\\n",
    "    | cut -f 1"
   ]
  },
  {
   "cell_type": "markdown",
   "metadata": {},
   "source": [
    "### Dump \"boring\" reads\n",
    "\n",
    "The compressed aligned read data occupy more than 100GB per sample.\n",
    "To reduce the computational demands for variant identification, we performed a preliminary data reduction step.\n",
    "We first loaded the reference genome into memory, and then processed the BAM alignments for each sample and discarded all reads that align perfectly to the reference genome.\n",
    "The remaining \"not boring\" reads were used for all subsequent analysis.\n",
    "\n",
    "We implemented the `sandbox/dump-boring-reads.py` script (currently available on the `kevlar` branch of the khmer software package) to perform this data reduction step.\n",
    "\n",
    "<!-- Show abund figure here! (before trimming too?) -->\n",
    "\n",
    "### Identify \"interesting\" *k*-mers\n",
    "\n",
    "As we've shown previously, SNVs and short indels result in several novel *k*-mers not found elsewhere in the genome.\n",
    "Motivated by this observation, we searched for *k*-mers."
   ]
  },
  {
   "cell_type": "markdown",
   "metadata": {},
   "source": [
    "## Results\n",
    "\n",
    "Here."
   ]
  },
  {
   "cell_type": "markdown",
   "metadata": {},
   "source": [
    "## Discussion\n",
    "\n",
    "Here."
   ]
  },
  {
   "cell_type": "code",
   "execution_count": null,
   "metadata": {
    "collapsed": true
   },
   "outputs": [],
   "source": []
  }
 ],
 "metadata": {
  "kernelspec": {
   "display_name": "Python 3",
   "language": "python",
   "name": "python3"
  },
  "language_info": {
   "codemirror_mode": {
    "name": "ipython",
    "version": 3
   },
   "file_extension": ".py",
   "mimetype": "text/x-python",
   "name": "python",
   "nbconvert_exporter": "python",
   "pygments_lexer": "ipython3",
   "version": "3.5.2"
  }
 },
 "nbformat": 4,
 "nbformat_minor": 0
}
