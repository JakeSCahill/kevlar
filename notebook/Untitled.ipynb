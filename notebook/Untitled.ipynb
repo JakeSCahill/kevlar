{
 "cells": [
  {
   "cell_type": "code",
   "execution_count": 1,
   "metadata": {
    "collapsed": false
   },
   "outputs": [],
   "source": [
    "import os\n",
    "import wget"
   ]
  },
  {
   "cell_type": "markdown",
   "metadata": {},
   "source": [
    "# Assessing discoverability of mutation-derived genomic variants\n",
    "\n",
    "With a hypothetical and truly random genome, any change to the nucleotide sequence should result in k-mers not present in the original genome, for a sufficiently large value of *k*.\n",
    "Real genomes, however, are not random.\n",
    "In addition to repetitive DNA of myriad origins,\n",
    "\n",
    "\n",
    "We first sought to eva\n",
    "We hypothesized that a novel mutation \n",
    "\n",
    "```\n",
    "ctcctcagtctaAgccaagtggtgt\n",
    "```\n",
    "\n",
    "\n",
    "To investigate the power of a k-mer based method for discovering mutation-derived genomic variants, we simulated mutations on the human genome reference assembly. For each mutation we collected all sequences of length *k* (k-mers) overlapping the mutation and determined how many of these were present elsewhere in the genome."
   ]
  },
  {
   "cell_type": "markdown",
   "metadata": {},
   "source": [
    "## Methods"
   ]
  },
  {
   "cell_type": "markdown",
   "metadata": {},
   "source": [
    "### Code and data retrieval\n",
    "\n",
    "The GRCh38 reference genome assembly was obtained from the [1000 genomes FTP site](ftp://ftp.1000genomes.ebi.ac.uk/vol1/ftp/), and the simulation code was downloaded and compiled along with the [kevlar package](https://github.com/dib-lab/kevlar)."
   ]
  },
  {
   "cell_type": "code",
   "execution_count": 3,
   "metadata": {
    "collapsed": false
   },
   "outputs": [],
   "source": [
    "# Only download the assembly if the file doesn't already reside on the local disk\n",
    "baseurl = 'ftp://ftp.1000genomes.ebi.ac.uk/vol1/ftp/technical/reference/GRCh38_reference_genome/'\n",
    "refrfile = 'GRCh38_full_analysis_set_plus_decoy_hla.fa'\n",
    "url = baseurl + refrfile\n",
    "if not os.path.isfile(refrfile):\n",
    "    filename = wget.download(url)\n",
    "    assert filename == refrfile"
   ]
  },
  {
   "cell_type": "markdown",
   "metadata": {},
   "source": [
    "### Data pre-processing\n",
    "\n",
    "Asdf."
   ]
  },
  {
   "cell_type": "markdown",
   "metadata": {},
   "source": [
    "## Simulating single-nucleotide variants\n",
    "\n",
    "Using a sliding window of *2k-1* nucleotides, we mutated each position in the genome.\n",
    "\n",
    "\n",
    "```\n",
    "CTCCTCAGTCTA|A|GCCAAGTGGTGT\n",
    "\n",
    "CTCCTCAGTCTA|c|GCCAAGTGGTGT\n",
    "\n",
    "CTCCTCAGTCTA|c|\n",
    " TCCTCAGTCTA|c|G\n",
    "  CCTCAGTCTA|c|GC\n",
    "   CTCAGTCTA|c|GCC\n",
    "    TCAGTCTA|c|GCCA\n",
    "     CAGTCTA|c|GCCAA\n",
    "      AGTCTA|c|GCCAAG\n",
    "       GTCTA|c|GCCAAGT\n",
    "        TCTA|c|GCCAAGTG\n",
    "         CTA|c|GCCAAGTGG\n",
    "          TA|c|GCCAAGTGGT\n",
    "           A|c|GCCAAGTGGTG\n",
    "            |c|GCCAAGTGGTGT\n",
    "```"
   ]
  },
  {
   "cell_type": "code",
   "execution_count": 1,
   "metadata": {
    "collapsed": false
   },
   "outputs": [
    {
     "data": {
      "text/plain": [
       "'ctcctcagtctaagccaagtggtgt'"
      ]
     },
     "execution_count": 1,
     "metadata": {},
     "output_type": "execute_result"
    }
   ],
   "source": [
    "'CTCCTCAGTCTAAGCCAAGTGGTGT'.lower()"
   ]
  },
  {
   "cell_type": "code",
   "execution_count": null,
   "metadata": {
    "collapsed": true
   },
   "outputs": [],
   "source": []
  }
 ],
 "metadata": {
  "kernelspec": {
   "display_name": "Python 3",
   "language": "python",
   "name": "python3"
  },
  "language_info": {
   "codemirror_mode": {
    "name": "ipython",
    "version": 3
   },
   "file_extension": ".py",
   "mimetype": "text/x-python",
   "name": "python",
   "nbconvert_exporter": "python",
   "pygments_lexer": "ipython3",
   "version": "3.5.2"
  }
 },
 "nbformat": 4,
 "nbformat_minor": 2
}
