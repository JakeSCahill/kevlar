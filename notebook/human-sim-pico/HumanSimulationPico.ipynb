{
 "cells": [
  {
   "cell_type": "markdown",
   "metadata": {},
   "source": [
    "# Variant calling with `kevlar`: human simulation \"pico\"\n",
    "\n",
    "Here I've simulated a 2.5 Mb \"reference\" genome that is random but shares nucleotide compositional features of the human genome.\n",
    "I then simulated a trio of 3 individuals, each with some shared variants and some unique variants with respect to the \"reference\" genome.\n",
    "Finally, I invoked the `kevlar` workflow to assemble reads associated with each variant."
   ]
  },
  {
   "cell_type": "markdown",
   "metadata": {},
   "source": [
    "## Technical preliminaries\n",
    "\n",
    "Nothing interesting to see here."
   ]
  },
  {
   "cell_type": "code",
   "execution_count": 1,
   "metadata": {
    "collapsed": false
   },
   "outputs": [],
   "source": [
    "from __future__ import print_function\n",
    "import subprocess\n",
    "import kevlar\n",
    "import random\n",
    "import sys\n",
    "try:\n",
    "    maxint = sys.maxint\n",
    "except:\n",
    "    maxint = sys.maxsize"
   ]
  },
  {
   "cell_type": "code",
   "execution_count": 2,
   "metadata": {
    "collapsed": false
   },
   "outputs": [],
   "source": [
    "def gen_muts():\n",
    "    locs = [random.randint(0, 2500000) for _ in range(10)]\n",
    "    types = [random.choice(['snv', 'ins', 'del', 'inv']) for _ in range(10)]\n",
    "    for l, t in zip(locs, types):\n",
    "        if t == 'snv':\n",
    "            value = random.randint(1, 3)\n",
    "        elif t == 'ins':\n",
    "            length = random.randint(20, 200)\n",
    "            value = ''.join(random.choice('ACGT') for _ in range(length))\n",
    "        elif t == 'del':\n",
    "            value = random.randint(20, 200)\n",
    "        else:\n",
    "            value = random.randint(50, 900)\n",
    "        print(l, t, value, sep='\\t')"
   ]
  },
  {
   "cell_type": "markdown",
   "metadata": {},
   "source": [
    "## Generate a random genome\n",
    "\n",
    "Rather than generating a truly random genome, I wanted one that shared some compositional features with the human genome.\n",
    "I used the `nuclmm` package to train a 6th-order Markov model of nucleotide composition on the human genome, and then use this to simulate a 2.5 Mb random genome maintaining the same composition.\n",
    "Downloading the human genome and running `nuclmm train` are time intensive, so I've provided the associated commands here only as comments."
   ]
  },
  {
   "cell_type": "code",
   "execution_count": 3,
   "metadata": {
    "collapsed": false
   },
   "outputs": [],
   "source": [
    "# !wget ftp://ftp.1000genomes.ebi.ac.uk/vol1/ftp/technical/reference/GRCh38_reference_genome/GRCh38_full_analysis_set_plus_decoy_hla.fa\n",
    "# !pip install git+https://github.com/standage/nuclmm.git\n",
    "# !nuclmm train --order 6 --out human.order6.mm GRCh38_full_analysis_set_plus_decoy_hla.fa\n",
    "# !nuclmm simulate --out human.random.fa --order 6 --numseqs 1 --seqlen 2500000 --seed 42 human.order6.mm"
   ]
  },
  {
   "cell_type": "markdown",
   "metadata": {},
   "source": [
    "## Simulate a trio\n",
    "\n",
    "The files `[proband|mother|father]-mutations.tsv` contain lists of mutations to apply to each simulated sample.\n",
    "The proband shares 3 mutations with each parent, and has 10 unique mutations.\n",
    "The `kevlar mutate` command applies the mutations to the provided reference genome to create the mutated genome."
   ]
  },
  {
   "cell_type": "code",
   "execution_count": 4,
   "metadata": {
    "collapsed": false
   },
   "outputs": [
    {
     "name": "stderr",
     "output_type": "stream",
     "text": [
      "[kevlar::mutate] loading mutations\n",
      "[kevlar::mutate] mutating genome\n",
      "[kevlar::mutate] loading mutations\n",
      "[kevlar::mutate] mutating genome\n",
      "[kevlar::mutate] loading mutations\n",
      "[kevlar::mutate] mutating genome\n"
     ]
    }
   ],
   "source": [
    "arglist = ['mutate', '-o', 'proband-genome.fa', 'proband-mutations.tsv', 'human.random.fa']\n",
    "args = kevlar.cli.parser().parse_args(arglist)\n",
    "kevlar.mutate.main(args)\n",
    "\n",
    "arglist = ['mutate', '-o', 'mother-genome.fa', 'mother-mutations.tsv', 'human.random.fa']\n",
    "args = kevlar.cli.parser().parse_args(arglist)\n",
    "kevlar.mutate.main(args)\n",
    "\n",
    "arglist = ['mutate', '-o', 'father-genome.fa', 'father-mutations.tsv', 'human.random.fa']\n",
    "args = kevlar.cli.parser().parse_args(arglist)\n",
    "kevlar.mutate.main(args)"
   ]
  },
  {
   "cell_type": "markdown",
   "metadata": {},
   "source": [
    "## \"Sequence\" the genomes\n",
    "\n",
    "Use `wgsim` to simulate Illumina sequencing of each sample, with a small error rate."
   ]
  },
  {
   "cell_type": "code",
   "execution_count": 5,
   "metadata": {
    "collapsed": false
   },
   "outputs": [
    {
     "data": {
      "text/plain": [
       "0"
      ]
     },
     "execution_count": 5,
     "metadata": {},
     "output_type": "execute_result"
    }
   ],
   "source": [
    "# Seed doesn't actually seem to work :-(\n",
    "random.seed(55555555)\n",
    "\n",
    "seed = random.randint(1, maxint)\n",
    "cmd = 'wgsim -e 0.005 -r 0.0 -d 450 -s 50 -N 375000 -1 100 -2 100 -S {} proband-genome.fa proband-reads-1.fq proband-reads-2.fq'.format(seed)\n",
    "subprocess.call(cmd, shell=True)\n",
    "\n",
    "seed = random.randint(1, maxint)\n",
    "cmd = 'wgsim -e 0.005 -r 0.0 -d 450 -s 50 -N 375000 -1 100 -2 100 -S {} mother-genome.fa mother-reads-1.fq mother-reads-2.fq'.format(seed)\n",
    "subprocess.call(cmd, shell=True)\n",
    "\n",
    "seed = random.randint(1, maxint)\n",
    "cmd = 'wgsim -e 0.005 -r 0.0 -d 450 -s 50 -N 375000 -1 100 -2 100 -S {} father-genome.fa father-reads-1.fq father-reads-2.fq'.format(seed)\n",
    "subprocess.call(cmd, shell=True)"
   ]
  },
  {
   "cell_type": "markdown",
   "metadata": {},
   "source": [
    "## Dump boring reads\n",
    "\n",
    "Discarding reads that match the reference genome perfectly eliminates many k-mers and allows us to count the remaining k-mers accurately with much less memory.\n",
    "Typically `kevlar dump` would operate on BAM files, but here I'm processing the `bwa` SAM output directly and skipping `kevlar dump`."
   ]
  },
  {
   "cell_type": "code",
   "execution_count": 6,
   "metadata": {
    "collapsed": false
   },
   "outputs": [
    {
     "name": "stdout",
     "output_type": "stream",
     "text": [
      "[bwa_index] Pack FASTA... 0.03 sec\n",
      "[bwa_index] Construct BWT for the packed sequence...\n",
      "[bwa_index] 0.86 seconds elapse.\n",
      "[bwa_index] Update BWT... 0.02 sec\n",
      "[bwa_index] Pack forward-only FASTA... 0.02 sec\n",
      "[bwa_index] Construct SA from BWT and Occ... 0.27 sec\n",
      "[main] Version: 0.7.15-r1140\n",
      "[main] CMD: bwa index human.random.fa\n",
      "[main] Real time: 1.203 sec; CPU: 1.193 sec\n",
      "\n",
      "real\t0m1.215s\n",
      "user\t0m1.155s\n",
      "sys\t0m0.040s\n",
      "\n",
      "real\t0m36.594s\n",
      "user\t0m50.739s\n",
      "sys\t0m0.844s\n",
      "\n",
      "real\t0m38.288s\n",
      "user\t0m51.859s\n",
      "sys\t0m0.933s\n",
      "\n",
      "real\t0m36.602s\n",
      "user\t0m51.802s\n",
      "sys\t0m0.814s\n"
     ]
    }
   ],
   "source": [
    "!time bwa index human.random.fa\n",
    "!time bwa mem human.random.fa proband-reads-[1,2].fq 2> proband-bwa.log | samtools view | perl -ne 'print if !/\\t\\d+M\\t/ || !/NM:i:0/' | perl -ane '$suffix = $F[1] & 64 ? \"/1\" : \"/2\"; print \"\\@\" . \"$F[0]$suffix\\n$F[9]\\n+\\n$F[10]\\n\"' | gzip -c > proband-reads-dump.fq.gz\n",
    "!time bwa mem human.random.fa mother-reads-[1,2].fq 2> mother-bwa.log | samtools view | perl -ne 'print if !/\\t\\d+M\\t/ || !/NM:i:0/' | perl -ane '$suffix = $F[1] & 64 ? \"/1\" : \"/2\"; print \"\\@\" . \"$F[0]$suffix\\n$F[9]\\n+\\n$F[10]\\n\"' | gzip -c > mother-reads-dump.fq.gz\n",
    "!time bwa mem human.random.fa father-reads-[1,2].fq 2> father-bwa.log | samtools view | perl -ne 'print if !/\\t\\d+M\\t/ || !/NM:i:0/' | perl -ane '$suffix = $F[1] & 64 ? \"/1\" : \"/2\"; print \"\\@\" . \"$F[0]$suffix\\n$F[9]\\n+\\n$F[10]\\n\"' | gzip -c > father-reads-dump.fq.gz"
   ]
  },
  {
   "cell_type": "markdown",
   "metadata": {},
   "source": [
    "## Count all remaining k-mers\n",
    "\n",
    "First control sample uses full `100M` for counting. All subsequent samples check against the first control before counting (no need to count if k-mer is already disqualified in first sample), thus requiring only `100Mb x 0.25 = 25Mb` for counting."
   ]
  },
  {
   "cell_type": "code",
   "execution_count": 7,
   "metadata": {
    "collapsed": false
   },
   "outputs": [
    {
     "name": "stderr",
     "output_type": "stream",
     "text": [
      "[kevlar::count] Loading control samples\n",
      "[kevlar::counting]     computing k-mer abundances for 2 samples\n",
      "[kevlar::counting]     loading sample from father-reads-dump.fq.gz\n",
      "[kevlar::counting]     done loading reads; 296017 reads processed, 22495089 k-mers stored; estimated false positive rate is 0.009; saved to \"father.counttable\"\n",
      "[kevlar::counting]     loading sample from mother-reads-dump.fq.gz\n",
      "[kevlar::counting]     done loading reads; 296696 reads processed, 6975456 k-mers stored; estimated false positive rate is 0.181; saved to \"mother.counttable\"\n",
      "[kevlar::count] 2 samples loaded in 94.79 sec\n",
      "[kevlar::count] Loading case samples\n",
      "[kevlar::counting]     computing k-mer abundances for 1 samples\n",
      "[kevlar::counting]     loading sample from proband-reads-dump.fq.gz\n",
      "[kevlar::counting]     done loading reads; 296514 reads processed, 6623386 k-mers stored; estimated false positive rate is 0.172; saved to \"proband.counttable\"\n",
      "[kevlar::count] 1 sample(s) loaded in 58.25 sec\n",
      "[kevlar::count] Total time: 153.04 seconds\n"
     ]
    }
   ],
   "source": [
    "arglist = ['count', '--ksize', '25', '--memory', '100M', '--mem-frac', '0.25',\n",
    "           '--case', 'proband.counttable', 'proband-reads-dump.fq.gz',\n",
    "           '--control', 'father.counttable', 'father-reads-dump.fq.gz',\n",
    "           '--control', 'mother.counttable', 'mother-reads-dump.fq.gz']\n",
    "args = kevlar.cli.parser().parse_args(arglist)\n",
    "kevlar.count.main(args)"
   ]
  },
  {
   "cell_type": "markdown",
   "metadata": {},
   "source": [
    "## Identify \"interesting\" k-mers\n",
    "\n",
    "Select k-mers that are high abundance (> 8) in the proband and effectively absent (<= 1) in each control.\n",
    "Print the reads that contain these k-mers."
   ]
  },
  {
   "cell_type": "code",
   "execution_count": 8,
   "metadata": {
    "collapsed": false
   },
   "outputs": [
    {
     "name": "stderr",
     "output_type": "stream",
     "text": [
      "[kevlar::novel] Loading control samples\n",
      "[kevlar::novel]    INFO: counttables for 2 sample(s) provided, any corresponding FASTA/FASTQ input will be ignored for computing k-mer abundances\n",
      "[kevlar::counting]     loading sketchfile \"mother.counttable\"...done! estimated false positive rate is 0.181\n",
      "[kevlar::counting]     loading sketchfile \"father.counttable\"...done! estimated false positive rate is 0.009\n",
      "[kevlar::novel] Control samples loaded in 0.50 sec\n",
      "[kevlar::novel] Loading case samples\n",
      "[kevlar::novel]    INFO: counttables for 1 samples provided, any corresponding FASTA/FASTQ input will be ignored for computing k-mer abundances\n",
      "[kevlar::counting]     loading sketchfile \"proband.counttable\"...done! estimated false positive rate is 0.172\n",
      "[kevlar::novel] Case samples loaded in 0.10 sec\n",
      "[kevlar::novel] All samples loaded in 0.59 sec\n",
      "[kevlar::novel] Iterating over reads from 1 case sample(s)\n",
      "[kevlar::novel] Iterated over 296513 reads in 59.39 seconds\n",
      "[kevlar::novel] Found 22624 instances of 1204 unique novel kmers in 989 reads\n",
      "[kevlar::novel] Total time: 59.98 seconds\n"
     ]
    }
   ],
   "source": [
    "arglist = ['novel', '--case', 'proband-reads-dump.fq.gz', '--case-counts', 'proband.counttable',\n",
    "           '--control-counts', 'mother.counttable', 'father.counttable', '--ctrl-max', '1', '--case-min', '8',\n",
    "           '--memory', '100M', '--max-fpr', '0.2', '--ksize', '25', '--out', 'proband.novel.augfastq.gz']\n",
    "args = kevlar.cli.parser().parse_args(arglist)\n",
    "kevlar.novel.main(args)"
   ]
  },
  {
   "cell_type": "markdown",
   "metadata": {},
   "source": [
    "## Filter \"interesting\" k-mers\n",
    "\n",
    "Recompute k-mer abundances with a much smaller amount of input data. In normal circumstances you'd be able to achieve an effective FPR = 0.0 with much less memory than in the `kevlar novel` step, but here I was just lazy and used the same."
   ]
  },
  {
   "cell_type": "code",
   "execution_count": 9,
   "metadata": {
    "collapsed": false
   },
   "outputs": [
    {
     "name": "stderr",
     "output_type": "stream",
     "text": [
      "[kevlar::filter] Loading reference genome from human.random.fa\n",
      "    1 sequences and 2499976 k-mers consumed; estimated false positive rate is 0.000\n",
      "[kevlar::filter] Reference genome loaded in 2.20 sec\n",
      "[kevlar::filter] Loading input; recalculate k-mer abundances, de-duplicate reads and merge k-mers\n",
      "    - proband.novel.augfastq.gz\n",
      "    989 instances of 989 reads consumed, annotated with 22624 instances of 1204 distinct \"interesting\" k-mers; estimated false positive rate is 0.000\n",
      "[kevlar::filter] Input loaded in 0.67 sec\n",
      "[kevlar::filter] Validate k-mers and print reads\n",
      "    processed 22624 instances of 1204 distinct \"interesting\" k-mers in 989 reads\n",
      "        1470 instances of 167 distinct k-mers masked by the reference genome\n",
      "        0 instances of 0 distinct k-mers discarded due to low abundance\n",
      "        21154 instances of 1037 distinct k-mers validated as novel\n",
      "        468 reads with no surviving valid k-mers ignored\n",
      "        0 contaminant reads discarded\n",
      "        521 reads written to output\n",
      "[kevlar::filter] k-mers validated and reads printed in 1.50 sec\n",
      "[kevlar::filter] Total time: 4.38 seconds\n"
     ]
    }
   ],
   "source": [
    "arglist = ['filter', '--refr', 'human.random.fa', '--refr-memory', '100M', '--refr-max-fpr', '0.001',\n",
    "           '--abund-memory', '100M', '--abund-max-fpr', '0.001', '--min-abund', '8',\n",
    "           '--out', 'proband.novel.filtered.fq.gz', '--aug-out', 'proband.novel.filtered.augfastq.gz',\n",
    "           '--ksize', '25', 'proband.novel.augfastq.gz']\n",
    "args = kevlar.cli.parser().parse_args(arglist)\n",
    "kevlar.filter.main(args)"
   ]
  },
  {
   "cell_type": "markdown",
   "metadata": {},
   "source": [
    "## Partition reads by shared \"interesting\" k-mers\n",
    "\n",
    "Here we expect to see 10 connected components, corresponding to the 10 mutations unique to the proband."
   ]
  },
  {
   "cell_type": "code",
   "execution_count": 10,
   "metadata": {
    "collapsed": false
   },
   "outputs": [
    {
     "name": "stderr",
     "output_type": "stream",
     "text": [
      "[kevlar::partition] Loading reads from proband.novel.filtered.augfastq.gz\n",
      "[kevlar::partition] Reads loaded in 0.51 sec\n",
      "[kevlar::partition] Building read graph in relaxed mode (shared novel k-mer required)\n",
      "[kevlar::partition] Graph built in 0.88 sec\n",
      "[kevlar::partition] Writing output to prefix part\n",
      "[kevlar::overlap] grouped 521 reads into 10 connected components\n",
      "[kevlar::partition] Output written in 0.62 sec\n",
      "[kevlar::partition] Total time: 1.50 seconds\n"
     ]
    }
   ],
   "source": [
    "arglist = ['partition', 'part', 'proband.novel.filtered.augfastq.gz']\n",
    "args = kevlar.cli.parser().parse_args(arglist)\n",
    "kevlar.partition.main(args)"
   ]
  },
  {
   "cell_type": "markdown",
   "metadata": {},
   "source": [
    "## Assemble each partition\n",
    "\n",
    "Perform abundance trimming on reads from each partition and then assemble.\n",
    "Each contig (or set of contigs) should be reflective of a distinct variant!"
   ]
  },
  {
   "cell_type": "code",
   "execution_count": 11,
   "metadata": {
    "collapsed": false
   },
   "outputs": [
    {
     "name": "stderr",
     "output_type": "stream",
     "text": [
      "\n",
      "\n",
      "==== iter 0 ====\n",
      "[kevlar::assemble] WARNING: assembly graph contains 2 connected components; designated in the output by cc=N\n",
      "[kevlar::assemble] assembled 46/51 reads from 2 connected component(s) into 2 contig(s)\n",
      "\n",
      "\n",
      "==== iter 1 ====\n",
      "[kevlar::assemble] assembled 22/27 reads from 1 connected component(s) into 2 contig(s)\n",
      "\n",
      "\n",
      "==== iter 2 ====\n",
      "[kevlar::assemble] WARNING: assembly graph contains 3 connected components; designated in the output by cc=N\n",
      "[kevlar::assemble] assembled 101/136 reads from 3 connected component(s) into 4 contig(s)\n",
      "\n",
      "\n",
      "==== iter 3 ====\n",
      "[kevlar::assemble] assembled 13/17 reads from 1 connected component(s) into 2 contig(s)\n",
      "\n",
      "\n",
      "==== iter 4 ====\n",
      "[kevlar::assemble] WARNING: assembly graph contains 2 connected components; designated in the output by cc=N\n",
      "[kevlar::assemble] assembled 55/62 reads from 2 connected component(s) into 4 contig(s)\n",
      "\n",
      "\n",
      "==== iter 5 ====\n",
      "[kevlar::assemble] assembled 21/26 reads from 1 connected component(s) into 1 contig(s)\n",
      "\n",
      "\n",
      "==== iter 6 ====\n",
      "[kevlar::assemble] assembled 16/19 reads from 1 connected component(s) into 1 contig(s)\n",
      "\n",
      "\n",
      "==== iter 7 ====\n",
      "[kevlar::assemble] assembled 18/23 reads from 1 connected component(s) into 1 contig(s)\n",
      "\n",
      "\n",
      "==== iter 8 ====\n",
      "[kevlar::assemble] assembled 27/35 reads from 1 connected component(s) into 2 contig(s)\n",
      "\n",
      "\n",
      "==== iter 9 ====\n",
      "[kevlar::assemble] assembled 20/23 reads from 1 connected component(s) into 2 contig(s)\n"
     ]
    }
   ],
   "source": [
    "for i in range(10):\n",
    "    print('\\n\\n==== iter {i} ===='.format(i=i), file=sys.stderr)\n",
    "    \n",
    "    # Strip interesting k-mer annotations\n",
    "    cmd = \"gunzip -c part.cc{i}.augfastq.gz | grep -v '#$' | gzip -c > part.cc{i}.fq.gz\".format(i=i)\n",
    "    subprocess.check_call(cmd, shell=True)\n",
    "    # Perform trimming\n",
    "    cmd = \"trim-low-abund.py -M 50M -k 25 --output part.cc{i}.trim.fq.gz --gzip part.cc{i}.fq.gz 2> part.cc{i}.trim.log\".format(i=i)\n",
    "    subprocess.check_call(cmd, shell=True)\n",
    "    # Re-annotate interesting k-mers\n",
    "    arglist = ['reaugment', '--out', 'part.cc{i}.trim.augfastq.gz'.format(i=i),\n",
    "               'part.cc{i}.augfastq.gz'.format(i=i), 'part.cc{i}.trim.fq.gz'.format(i=i)]\n",
    "    args = kevlar.cli.parser().parse_args(arglist)\n",
    "    kevlar.reaugment.main(args)\n",
    "    \n",
    "    # Assemble\n",
    "    arglist = ['assemble', '--out', 'part.cc{i}.asmbl.augfasta.gz'.format(i=i),\n",
    "               'part.cc{i}.trim.augfastq.gz'.format(i=i)]\n",
    "    args = kevlar.cli.parser().parse_args(arglist)\n",
    "    kevlar.assemble.main(args)\n",
    "    \n",
    "    # Plain Fasta file for convenience with downstream analysis.\n",
    "    cmd = \"gunzip -c part.cc{i}.asmbl.augfasta.gz | grep -v '#$' > part.cc{i}.fa\".format(i=i)\n",
    "    subprocess.check_call(cmd, shell=True)"
   ]
  }
 ],
 "metadata": {
  "kernelspec": {
   "display_name": "Python 3",
   "language": "python",
   "name": "python3"
  },
  "language_info": {
   "codemirror_mode": {
    "name": "ipython",
    "version": 3
   },
   "file_extension": ".py",
   "mimetype": "text/x-python",
   "name": "python",
   "nbconvert_exporter": "python",
   "pygments_lexer": "ipython3",
   "version": "3.5.2"
  }
 },
 "nbformat": 4,
 "nbformat_minor": 2
}
