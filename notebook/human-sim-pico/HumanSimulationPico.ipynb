{
 "cells": [
  {
   "cell_type": "markdown",
   "metadata": {},
   "source": [
    "# Variant calling with `kevlar`: human simulation \"pico\"\n",
    "\n",
    "At this stage, `kevlar` takes quite a bit of time to run on human-sized data sets.\n",
    "To facilitate more rapid method development, I needed a small test data set that can be processed quickly.\n",
    "And while faithfully modeling a eukaryotic genome in all of its repetitive glory is extremely complicated, I wanted to at least capture a couple of features realistically in this simulation: higher-order nucleotide composition, and shared versus unique variants.\n",
    "\n",
    "In brief, this notebook shows how I simulated a 2.5 Mb \"reference\" genome, simulated a trio of 3 individuals from that reference genome, and then invoked the `kevlar` workflow to identify variants."
   ]
  },
  {
   "cell_type": "markdown",
   "metadata": {},
   "source": [
    "## Technical preliminaries\n",
    "\n",
    "Nothing interesting to see here."
   ]
  },
  {
   "cell_type": "code",
   "execution_count": 1,
   "metadata": {
    "collapsed": false
   },
   "outputs": [],
   "source": [
    "from __future__ import print_function\n",
    "import subprocess\n",
    "import kevlar\n",
    "import random\n",
    "import sys"
   ]
  },
  {
   "cell_type": "code",
   "execution_count": 2,
   "metadata": {
    "collapsed": false
   },
   "outputs": [],
   "source": [
    "def gen_muts():\n",
    "    locs = [random.randint(0, 2500000) for _ in range(10)]\n",
    "    types = [random.choice(['snv', 'ins', 'del', 'inv']) for _ in range(10)]\n",
    "    for l, t in zip(locs, types):\n",
    "        if t == 'snv':\n",
    "            value = random.randint(1, 3)\n",
    "        elif t == 'ins':\n",
    "            length = random.randint(20, 200)\n",
    "            value = ''.join(random.choice('ACGT') for _ in range(length))\n",
    "        elif t == 'del':\n",
    "            value = random.randint(20, 200)\n",
    "        else:\n",
    "            value = random.randint(50, 900)\n",
    "        print(l, t, value, sep='\\t')"
   ]
  },
  {
   "cell_type": "markdown",
   "metadata": {},
   "source": [
    "## Generate a random genome\n",
    "\n",
    "Rather than generating a truly random genome, I wanted one that shared some compositional features with the human genome.\n",
    "I used the `nuclmm` package to train a 6th-order Markov model of nucleotide composition on the human genome, and then use this to simulate a 2.5 Mb random genome maintaining the same composition.\n",
    "Downloading the human genome and running `nuclmm train` are time intensive, so I've provided the associated commands here only as comments."
   ]
  },
  {
   "cell_type": "code",
   "execution_count": 3,
   "metadata": {
    "collapsed": false
   },
   "outputs": [],
   "source": [
    "# !wget ftp://ftp.1000genomes.ebi.ac.uk/vol1/ftp/technical/reference/GRCh38_reference_genome/GRCh38_full_analysis_set_plus_decoy_hla.fa\n",
    "# !pip install git+https://github.com/standage/nuclmm.git\n",
    "# !nuclmm train --order 6 --out human.order6.mm GRCh38_full_analysis_set_plus_decoy_hla.fa\n",
    "# !nuclmm simulate --out human.random.fa --order 6 --numseqs 1 --seqlen 2500000 --seed 42 human.order6.mm"
   ]
  },
  {
   "cell_type": "markdown",
   "metadata": {},
   "source": [
    "## Simulate a trio\n",
    "\n",
    "The files `[proband|mother|father]-mutations.tsv` contain lists of mutations to apply to the reference genome for each simulated sample.\n",
    "The proband shares 3 mutations with each parent, and has 10 unique mutations.\n",
    "The `kevlar mutate` command applies the mutations to the provided reference genome to create the mutated genome."
   ]
  },
  {
   "cell_type": "code",
   "execution_count": 4,
   "metadata": {
    "collapsed": false
   },
   "outputs": [
    {
     "name": "stderr",
     "output_type": "stream",
     "text": [
      "[kevlar::mutate] loading mutations\n",
      "[kevlar::mutate] mutating genome\n",
      "[kevlar::mutate] loading mutations\n",
      "[kevlar::mutate] mutating genome\n",
      "[kevlar::mutate] loading mutations\n",
      "[kevlar::mutate] mutating genome\n"
     ]
    }
   ],
   "source": [
    "arglist = ['mutate', '-o', 'proband-genome.fa', 'proband-mutations.tsv', 'human.random.fa']\n",
    "args = kevlar.cli.parser().parse_args(arglist)\n",
    "kevlar.mutate.main(args)\n",
    "\n",
    "arglist = ['mutate', '-o', 'mother-genome.fa', 'mother-mutations.tsv', 'human.random.fa']\n",
    "args = kevlar.cli.parser().parse_args(arglist)\n",
    "kevlar.mutate.main(args)\n",
    "\n",
    "arglist = ['mutate', '-o', 'father-genome.fa', 'father-mutations.tsv', 'human.random.fa']\n",
    "args = kevlar.cli.parser().parse_args(arglist)\n",
    "kevlar.mutate.main(args)"
   ]
  },
  {
   "cell_type": "markdown",
   "metadata": {},
   "source": [
    "## \"Sequence\" the genomes\n",
    "\n",
    "Use `wgsim` to simulate Illumina sequencing of each sample, with a small error rate."
   ]
  },
  {
   "cell_type": "code",
   "execution_count": 5,
   "metadata": {
    "collapsed": false
   },
   "outputs": [],
   "source": [
    "random.seed(55555555)\n",
    "\n",
    "# wgsim uses an `int` type for its seed value\n",
    "# Using extremely large integer values led to non-deterministic behavior,\n",
    "# so I'm just using what can fit in a 16-bit integer here.\n",
    "maxint = 65535\n",
    "\n",
    "seed = random.randint(1, maxint)\n",
    "cmd = 'wgsim -e 0.005 -r 0.0 -d 450 -s 50 -N 375000 -1 100 -2 100 -S {} proband-genome.fa proband-reads-1.fq proband-reads-2.fq'.format(seed)\n",
    "_ = subprocess.check_call(cmd, shell=True)\n",
    "\n",
    "seed = random.randint(1, maxint)\n",
    "cmd = 'wgsim -e 0.005 -r 0.0 -d 450 -s 50 -N 375000 -1 100 -2 100 -S {} mother-genome.fa mother-reads-1.fq mother-reads-2.fq'.format(seed)\n",
    "_ = subprocess.check_call(cmd, shell=True)\n",
    "\n",
    "seed = random.randint(1, maxint)\n",
    "cmd = 'wgsim -e 0.005 -r 0.0 -d 450 -s 50 -N 375000 -1 100 -2 100 -S {} father-genome.fa father-reads-1.fq father-reads-2.fq'.format(seed)\n",
    "_ = subprocess.check_call(cmd, shell=True)"
   ]
  },
  {
   "cell_type": "markdown",
   "metadata": {},
   "source": [
    "## Dump boring reads\n",
    "\n",
    "Discarding reads that match the reference genome perfectly eliminates many k-mers and allows us to count the remaining k-mers accurately with much less memory.\n",
    "Typically `kevlar dump` would operate on BAM files, but here I'm processing the `bwa` SAM output directly and skipping `kevlar dump`."
   ]
  },
  {
   "cell_type": "code",
   "execution_count": 6,
   "metadata": {
    "collapsed": false
   },
   "outputs": [
    {
     "name": "stdout",
     "output_type": "stream",
     "text": [
      "[bwa_index] Pack FASTA... 0.03 sec\n",
      "[bwa_index] Construct BWT for the packed sequence...\n",
      "[bwa_index] 0.80 seconds elapse.\n",
      "[bwa_index] Update BWT... 0.03 sec\n",
      "[bwa_index] Pack forward-only FASTA... 0.02 sec\n",
      "[bwa_index] Construct SA from BWT and Occ... 0.23 sec\n",
      "[main] Version: 0.7.15-r1140\n",
      "[main] CMD: bwa index human.random.fa\n",
      "[main] Real time: 1.131 sec; CPU: 1.114 sec\n",
      "\n",
      "real\t0m1.144s\n",
      "user\t0m1.077s\n",
      "sys\t0m0.041s\n",
      "\n",
      "real\t0m29.926s\n",
      "user\t0m44.088s\n",
      "sys\t0m0.666s\n",
      "\n",
      "real\t0m30.516s\n",
      "user\t0m45.150s\n",
      "sys\t0m0.662s\n",
      "\n",
      "real\t0m31.790s\n",
      "user\t0m46.424s\n",
      "sys\t0m0.661s\n"
     ]
    }
   ],
   "source": [
    "!time bwa index human.random.fa\n",
    "!time bwa mem human.random.fa proband-reads-[1,2].fq 2> proband-bwa.log | samtools view | perl -ne 'print if !/\\t\\d+M\\t/ || !/NM:i:0/' | perl -ane '$suffix = $F[1] & 64 ? \"/1\" : \"/2\"; print \"\\@\" . \"$F[0]$suffix\\n$F[9]\\n+\\n$F[10]\\n\"' | gzip -c > proband-reads-dump.fq.gz\n",
    "!time bwa mem human.random.fa mother-reads-[1,2].fq 2> mother-bwa.log | samtools view | perl -ne 'print if !/\\t\\d+M\\t/ || !/NM:i:0/' | perl -ane '$suffix = $F[1] & 64 ? \"/1\" : \"/2\"; print \"\\@\" . \"$F[0]$suffix\\n$F[9]\\n+\\n$F[10]\\n\"' | gzip -c > mother-reads-dump.fq.gz\n",
    "!time bwa mem human.random.fa father-reads-[1,2].fq 2> father-bwa.log | samtools view | perl -ne 'print if !/\\t\\d+M\\t/ || !/NM:i:0/' | perl -ane '$suffix = $F[1] & 64 ? \"/1\" : \"/2\"; print \"\\@\" . \"$F[0]$suffix\\n$F[9]\\n+\\n$F[10]\\n\"' | gzip -c > father-reads-dump.fq.gz"
   ]
  },
  {
   "cell_type": "markdown",
   "metadata": {},
   "source": [
    "## Count all remaining k-mers\n",
    "\n",
    "First control sample uses full `100M` for counting. All subsequent samples check against the first control before counting (no need to count if k-mer is already disqualified in first sample), thus requiring only `100Mb x 0.25 = 25Mb` for counting."
   ]
  },
  {
   "cell_type": "code",
   "execution_count": 7,
   "metadata": {
    "collapsed": false
   },
   "outputs": [
    {
     "name": "stderr",
     "output_type": "stream",
     "text": [
      "[kevlar::count] Loading control samples\n",
      "[kevlar::counting]     computing k-mer abundances for 2 samples\n",
      "[kevlar::counting]     loading sample from father-reads-dump.fq.gz\n",
      "[kevlar::counting]     done loading reads; 295877 reads processed, 22485272 k-mers stored; estimated false positive rate is 0.008; saved to \"father.counttable\"\n",
      "[kevlar::counting]     loading sample from mother-reads-dump.fq.gz\n",
      "[kevlar::counting]     done loading reads; 295581 reads processed, 6951229 k-mers stored; estimated false positive rate is 0.180; saved to \"mother.counttable\"\n",
      "[kevlar::count] 2 samples loaded in 79.09 sec\n",
      "[kevlar::count] Loading case samples\n",
      "[kevlar::counting]     computing k-mer abundances for 1 samples\n",
      "[kevlar::counting]     loading sample from proband-reads-dump.fq.gz\n",
      "[kevlar::counting]     done loading reads; 296034 reads processed, 6617158 k-mers stored; estimated false positive rate is 0.172; saved to \"proband.counttable\"\n",
      "[kevlar::count] 1 sample(s) loaded in 49.21 sec\n",
      "[kevlar::count] Total time: 128.30 seconds\n"
     ]
    }
   ],
   "source": [
    "arglist = ['count', '--ksize', '25', '--memory', '100M', '--mem-frac', '0.25',\n",
    "           '--case', 'proband.counttable', 'proband-reads-dump.fq.gz',\n",
    "           '--control', 'father.counttable', 'father-reads-dump.fq.gz',\n",
    "           '--control', 'mother.counttable', 'mother-reads-dump.fq.gz']\n",
    "args = kevlar.cli.parser().parse_args(arglist)\n",
    "kevlar.count.main(args)"
   ]
  },
  {
   "cell_type": "markdown",
   "metadata": {},
   "source": [
    "## Identify \"interesting\" k-mers\n",
    "\n",
    "Select k-mers that are high abundance (> 8) in the proband and effectively absent (<= 1) in each control.\n",
    "Print the reads that contain these k-mers."
   ]
  },
  {
   "cell_type": "code",
   "execution_count": 8,
   "metadata": {
    "collapsed": false
   },
   "outputs": [
    {
     "name": "stderr",
     "output_type": "stream",
     "text": [
      "[kevlar::novel] Loading control samples\n",
      "[kevlar::novel]    INFO: counttables for 2 sample(s) provided, any corresponding FASTA/FASTQ input will be ignored for computing k-mer abundances\n",
      "[kevlar::counting]     loading sketchfile \"mother.counttable\"...done! estimated false positive rate is 0.180\n",
      "[kevlar::counting]     loading sketchfile \"father.counttable\"...done! estimated false positive rate is 0.008\n",
      "[kevlar::novel] Control samples loaded in 0.38 sec\n",
      "[kevlar::novel] Loading case samples\n",
      "[kevlar::novel]    INFO: counttables for 1 samples provided, any corresponding FASTA/FASTQ input will be ignored for computing k-mer abundances\n",
      "[kevlar::counting]     loading sketchfile \"proband.counttable\"...done! estimated false positive rate is 0.172\n",
      "[kevlar::novel] Case samples loaded in 0.06 sec\n",
      "[kevlar::novel] All samples loaded in 0.45 sec\n",
      "[kevlar::novel] Iterating over reads from 1 case sample(s)\n",
      "[kevlar::novel] Iterated over 296033 reads in 51.97 seconds\n",
      "[kevlar::novel] Found 22684 instances of 1125 unique novel kmers in 938 reads\n",
      "[kevlar::novel] Total time: 52.42 seconds\n"
     ]
    }
   ],
   "source": [
    "arglist = ['novel', '--ctrl-max', '1', '--case-min', '8', '--ksize', '25',\n",
    "           '--case', 'proband-reads-dump.fq.gz', '--case-counts', 'proband.counttable',\n",
    "           '--control-counts', 'mother.counttable', 'father.counttable',\n",
    "           '--out', 'proband.novel.augfastq.gz']\n",
    "args = kevlar.cli.parser().parse_args(arglist)\n",
    "kevlar.novel.main(args)"
   ]
  },
  {
   "cell_type": "markdown",
   "metadata": {},
   "source": [
    "## Filter \"interesting\" k-mers\n",
    "\n",
    "Recompute k-mer abundances with a much smaller amount of input data. In normal circumstances you'd be able to achieve an effective FPR = 0.0 with much less memory than in the `kevlar novel` step, but here I was just lazy and used the same."
   ]
  },
  {
   "cell_type": "code",
   "execution_count": 9,
   "metadata": {
    "collapsed": false
   },
   "outputs": [
    {
     "name": "stderr",
     "output_type": "stream",
     "text": [
      "[kevlar::filter] Loading reference genome from human.random.fa\n",
      "    1 sequences and 2499976 k-mers consumed; estimated false positive rate is 0.000\n",
      "[kevlar::filter] Reference genome loaded in 2.07 sec\n",
      "[kevlar::filter] Loading input; recalculate k-mer abundances, de-duplicate reads and merge k-mers\n",
      "    - proband.novel.augfastq.gz\n",
      "    938 instances of 938 reads consumed, annotated with 22684 instances of 1125 distinct \"interesting\" k-mers; estimated false positive rate is 0.000\n",
      "[kevlar::filter] Input loaded in 0.57 sec\n",
      "[kevlar::filter] Validate k-mers and print reads\n",
      "    processed 22684 instances of 1125 distinct \"interesting\" k-mers in 938 reads\n",
      "        838 instances of 95 distinct k-mers masked by the reference genome\n",
      "        7 instances of 1 distinct k-mers discarded due to low abundance\n",
      "        21839 instances of 1029 distinct k-mers validated as novel\n",
      "        407 reads with no surviving valid k-mers ignored\n",
      "        0 contaminant reads discarded\n",
      "        531 reads written to output\n",
      "[kevlar::filter] k-mers validated and reads printed in 1.30 sec\n",
      "[kevlar::filter] Total time: 3.93 seconds\n"
     ]
    }
   ],
   "source": [
    "arglist = ['filter', '--refr', 'human.random.fa', '--refr-memory', '50M', '--refr-max-fpr', '0.001',\n",
    "           '--abund-memory', '10M', '--abund-max-fpr', '0.001', '--min-abund', '8',\n",
    "           '--out', 'proband.novel.filtered.fq.gz', '--aug-out', 'proband.novel.filtered.augfastq.gz',\n",
    "           '--ksize', '25', 'proband.novel.augfastq.gz']\n",
    "args = kevlar.cli.parser().parse_args(arglist)\n",
    "kevlar.filter.main(args)"
   ]
  },
  {
   "cell_type": "markdown",
   "metadata": {},
   "source": [
    "## Partition reads by shared \"interesting\" k-mers\n",
    "\n",
    "Here we expect to see 10 connected components, corresponding to the 10 mutations unique to the proband."
   ]
  },
  {
   "cell_type": "code",
   "execution_count": 10,
   "metadata": {
    "collapsed": false
   },
   "outputs": [
    {
     "name": "stderr",
     "output_type": "stream",
     "text": [
      "[kevlar::partition] Loading reads from proband.novel.filtered.augfastq.gz\n",
      "[kevlar::partition] Reads loaded in 0.49 sec\n",
      "[kevlar::partition] Building read graph in relaxed mode (shared novel k-mer required)\n",
      "[kevlar::partition] Graph built in 0.85 sec\n",
      "[kevlar::partition] Writing output to prefix part\n",
      "[kevlar::overlap] grouped 531 reads into 10 connected components\n",
      "[kevlar::partition] Output written in 0.57 sec\n",
      "[kevlar::partition] Total time: 1.42 seconds\n"
     ]
    }
   ],
   "source": [
    "arglist = ['partition', 'part', 'proband.novel.filtered.augfastq.gz']\n",
    "args = kevlar.cli.parser().parse_args(arglist)\n",
    "kevlar.partition.main(args)"
   ]
  },
  {
   "cell_type": "markdown",
   "metadata": {},
   "source": [
    "## Assemble each partition\n",
    "\n",
    "Perform abundance trimming on reads from each partition and then assemble.\n",
    "Each contig (or set of contigs) should be reflective of a distinct variant!"
   ]
  },
  {
   "cell_type": "code",
   "execution_count": 11,
   "metadata": {
    "collapsed": false
   },
   "outputs": [
    {
     "name": "stderr",
     "output_type": "stream",
     "text": [
      "\n",
      "\n",
      "==== iter 0 ====\n",
      "[kevlar::assemble] loaded 129 reads and 414 interesting k-mers\n",
      "[kevlar::assemble] initialized \"shared interesting k-mers\" graph with 126 nodes and 1477 edges\n",
      "[kevlar::assemble] assembled 105/129 reads from 1 connected component(s) into 10 contig(s)\n",
      "\n",
      "\n",
      "==== iter 1 ====\n",
      "[kevlar::assemble] loaded 77 reads and 182 interesting k-mers\n",
      "[kevlar::assemble] initialized \"shared interesting k-mers\" graph with 75 nodes and 971 edges\n",
      "[kevlar::assemble] assembled 65/77 reads from 1 connected component(s) into 7 contig(s)\n",
      "\n",
      "\n",
      "==== iter 2 ====\n",
      "[kevlar::assemble] loaded 66 reads and 175 interesting k-mers\n",
      "[kevlar::assemble] initialized \"shared interesting k-mers\" graph with 62 nodes and 600 edges\n",
      "[kevlar::assemble] assembled 56/66 reads from 1 connected component(s) into 5 contig(s)\n",
      "\n",
      "\n",
      "==== iter 3 ====\n",
      "[kevlar::assemble] loaded 42 reads and 85 interesting k-mers\n",
      "[kevlar::assemble] initialized \"shared interesting k-mers\" graph with 42 nodes and 541 edges\n",
      "[kevlar::assemble] assembled 37/42 reads from 1 connected component(s) into 1 contig(s)\n",
      "\n",
      "\n",
      "==== iter 4 ====\n",
      "[kevlar::assemble] loaded 26 reads and 25 interesting k-mers\n",
      "[kevlar::assemble] initialized \"shared interesting k-mers\" graph with 26 nodes and 225 edges\n",
      "[kevlar::assemble] assembled 21/26 reads from 1 connected component(s) into 1 contig(s)\n",
      "\n",
      "\n",
      "==== iter 5 ====\n",
      "[kevlar::assemble] loaded 21 reads and 22 interesting k-mers\n",
      "[kevlar::assemble] initialized \"shared interesting k-mers\" graph with 21 nodes and 175 edges\n",
      "[kevlar::assemble] assembled 19/21 reads from 1 connected component(s) into 2 contig(s)\n",
      "\n",
      "\n",
      "==== iter 6 ====\n",
      "[kevlar::assemble] loaded 21 reads and 24 interesting k-mers\n",
      "[kevlar::assemble] initialized \"shared interesting k-mers\" graph with 19 nodes and 100 edges\n",
      "[kevlar::assemble] assembled 16/21 reads from 1 connected component(s) into 1 contig(s)\n",
      "\n",
      "\n",
      "==== iter 7 ====\n",
      "[kevlar::assemble] loaded 20 reads and 24 interesting k-mers\n",
      "[kevlar::assemble] initialized \"shared interesting k-mers\" graph with 18 nodes and 117 edges\n",
      "[kevlar::assemble] assembled 18/20 reads from 1 connected component(s) into 2 contig(s)\n",
      "\n",
      "\n",
      "==== iter 8 ====\n",
      "[kevlar::assemble] loaded 16 reads and 25 interesting k-mers\n",
      "[kevlar::assemble] initialized \"shared interesting k-mers\" graph with 15 nodes and 88 edges\n",
      "[kevlar::assemble] assembled 15/16 reads from 1 connected component(s) into 2 contig(s)\n",
      "\n",
      "\n",
      "==== iter 9 ====\n",
      "[kevlar::assemble] loaded 16 reads and 53 interesting k-mers\n",
      "[kevlar::assemble] initialized \"shared interesting k-mers\" graph with 15 nodes and 68 edges\n",
      "[kevlar::assemble] assembled 13/16 reads from 1 connected component(s) into 1 contig(s)\n"
     ]
    }
   ],
   "source": [
    "for i in range(10):\n",
    "    print('\\n\\n==== iter {i} ===='.format(i=i), file=sys.stderr)\n",
    "    \n",
    "    # Strip interesting k-mer annotations\n",
    "    cmd = \"gunzip -c part.cc{i}.augfastq.gz | grep -v '#$' | gzip -c > part.cc{i}.fq.gz\".format(i=i)\n",
    "    subprocess.check_call(cmd, shell=True)\n",
    "    # Perform trimming\n",
    "    cmd = \"trim-low-abund.py -M 50M -k 25 --output part.cc{i}.trim.fq.gz --gzip part.cc{i}.fq.gz 2> part.cc{i}.trim.log\".format(i=i)\n",
    "    subprocess.check_call(cmd, shell=True)\n",
    "    # Re-annotate interesting k-mers\n",
    "    arglist = ['reaugment', '--out', 'part.cc{i}.trim.augfastq.gz'.format(i=i),\n",
    "               'part.cc{i}.augfastq.gz'.format(i=i), 'part.cc{i}.trim.fq.gz'.format(i=i)]\n",
    "    args = kevlar.cli.parser().parse_args(arglist)\n",
    "    kevlar.reaugment.main(args)\n",
    "    \n",
    "    # Assemble\n",
    "    arglist = ['assemble', '--out', 'part.cc{i}.asmbl.augfasta.gz'.format(i=i),\n",
    "               'part.cc{i}.trim.augfastq.gz'.format(i=i)]\n",
    "    args = kevlar.cli.parser().parse_args(arglist)\n",
    "    kevlar.assemble.main(args)\n",
    "    \n",
    "    # Plain Fasta file for convenience with downstream analysis.\n",
    "    cmd = \"gunzip -c part.cc{i}.asmbl.augfasta.gz | grep -v '#$' > part.cc{i}.fa\".format(i=i)\n",
    "    subprocess.check_call(cmd, shell=True)"
   ]
  }
 ],
 "metadata": {
  "kernelspec": {
   "display_name": "Python 3",
   "language": "python",
   "name": "python3"
  },
  "language_info": {
   "codemirror_mode": {
    "name": "ipython",
    "version": 3
   },
   "file_extension": ".py",
   "mimetype": "text/x-python",
   "name": "python",
   "nbconvert_exporter": "python",
   "pygments_lexer": "ipython3",
   "version": "3.5.2"
  }
 },
 "nbformat": 4,
 "nbformat_minor": 2
}
