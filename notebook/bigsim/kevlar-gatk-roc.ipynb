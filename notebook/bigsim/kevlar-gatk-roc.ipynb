{
 "cells": [
  {
   "cell_type": "code",
   "execution_count": 2,
   "metadata": {},
   "outputs": [],
   "source": [
    "%matplotlib inline\n",
    "import re\n",
    "import sys\n",
    "import matplotlib\n",
    "import seaborn\n",
    "import numpy\n",
    "from matplotlib import pyplot as plt\n",
    "from collections import defaultdict\n",
    "import pandas\n",
    "\n",
    "from evalutils import IntervalForest, populate_index_from_simulation, compact\n",
    "import kevlar\n",
    "\n",
    "seaborn.set_context({'figure.figsize': (12, 6)})\n",
    "matplotlib.rcParams['axes.labelsize'] = 16\n",
    "matplotlib.rcParams['xtick.labelsize'] = 16\n",
    "matplotlib.rcParams['ytick.labelsize'] = 16"
   ]
  },
  {
   "cell_type": "code",
   "execution_count": 3,
   "metadata": {},
   "outputs": [],
   "source": [
    "def roc_kevlar(filename, index, delta=30):\n",
    "    reader = kevlar.vcf.VCFReader(kevlar.open(filename, 'r'))\n",
    "    calls = compact(reader, index, delta=delta)\n",
    "    nvariants = len(index.trees['chr17'])\n",
    "    correct = 0\n",
    "    false = 0\n",
    "    tprs = list()\n",
    "    for varcall in calls:\n",
    "        valid = index.query(varcall.seqid, varcall.position, delta=delta) != set()\n",
    "        if valid:\n",
    "            correct += 1\n",
    "            continue\n",
    "        tpr = correct / nvariants\n",
    "        tprs.append(tpr)\n",
    "        false += 1\n",
    "    return tprs"
   ]
  },
  {
   "cell_type": "code",
   "execution_count": 4,
   "metadata": {},
   "outputs": [],
   "source": [
    "def roc_gatk(filename, index, delta=30):\n",
    "    gatkdata = pandas.read_table('GATK_calls_30x.mvf.gz', sep='\\t').sort_values('CHILD_DP', ascending=False)\n",
    "    nvariants = len(index.trees['chr17'])\n",
    "    correct = 0\n",
    "    false = 0\n",
    "    tprs = list()\n",
    "    for rowindex, row in gatkdata.iterrows():\n",
    "        valid = index.query(row['CHROM'], row['POS'], delta=delta) != set()\n",
    "        if valid:\n",
    "            correct += 1\n",
    "            continue\n",
    "        tpr = correct / nvariants\n",
    "        tprs.append(tpr)\n",
    "        false += 1\n",
    "    return tprs"
   ]
  },
  {
   "cell_type": "code",
   "execution_count": 5,
   "metadata": {},
   "outputs": [],
   "source": [
    "index = populate_index_from_simulation('SimulatedVariants_chr17_hg38.tsv.gz', 'chr17')"
   ]
  },
  {
   "cell_type": "code",
   "execution_count": 6,
   "metadata": {},
   "outputs": [
    {
     "name": "stderr",
     "output_type": "stream",
     "text": [
      "WARNING: found 2 matches for CALLCLASS 302\n",
      "WARNING: found 2 matches for CALLCLASS 1182\n",
      "WARNING: found 2 matches for CALLCLASS 1152\n",
      "WARNING: found 2 matches for CALLCLASS 79\n",
      "WARNING: found 2 matches for CALLCLASS 1264\n",
      "WARNING: found 4 matches for CALLCLASS 904\n"
     ]
    },
    {
     "data": {
      "image/png": "[encoded data removed]",
      "text/plain": [
       "<matplotlib.figure.Figure at 0x109c38208>"
      ]
     },
     "metadata": {},
     "output_type": "display_data"
    }
   ],
   "source": [
    "kevlar30x = roc_kevlar('kevlar_calls_30x.vcf.gz', index)\n",
    "gatk30x = roc_gatk('GATK_calls_30x.mvf.gz', index)\n",
    "\n",
    "_ = plt.plot(range(len(kevlar30x)), kevlar30x, color='red')\n",
    "_ = plt.plot(range(len(gatk30x)), gatk30x, color='blue')\n",
    "_ = plt.xlabel('False calls')\n",
    "_ = plt.ylabel('True positive rate')"
   ]
  }
 ],
 "metadata": {
  "kernelspec": {
   "display_name": "Python 3",
   "language": "python",
   "name": "python3"
  },
  "language_info": {
   "codemirror_mode": {
    "name": "ipython",
    "version": 3
   },
   "file_extension": ".py",
   "mimetype": "text/x-python",
   "name": "python",
   "nbconvert_exporter": "python",
   "pygments_lexer": "ipython3",
   "version": "3.6.3"
  }
 },
 "nbformat": 4,
 "nbformat_minor": 2
}
