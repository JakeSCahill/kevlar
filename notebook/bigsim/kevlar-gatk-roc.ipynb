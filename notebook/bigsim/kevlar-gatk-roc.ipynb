{
 "cells": [
  {
   "cell_type": "code",
   "execution_count": 46,
   "metadata": {},
   "outputs": [],
   "source": [
    "%matplotlib inline\n",
    "import re\n",
    "import sys\n",
    "import matplotlib\n",
    "import seaborn\n",
    "import numpy\n",
    "from matplotlib import pyplot as plt\n",
    "from collections import defaultdict\n",
    "import pandas\n",
    "\n",
    "import evaluate\n",
    "from evaluate import IntervalForest, populate_index_from_simulation\n",
    "import kevlar\n",
    "\n",
    "seaborn.set_context({'figure.figsize': (12, 6)})\n",
    "matplotlib.rcParams['axes.labelsize'] = 16\n",
    "matplotlib.rcParams['xtick.labelsize'] = 16\n",
    "matplotlib.rcParams['ytick.labelsize'] = 16"
   ]
  },
  {
   "cell_type": "code",
   "execution_count": 47,
   "metadata": {},
   "outputs": [],
   "source": [
    "index = populate_index_from_simulation('SimulatedVariants_chr17_hg38.tsv.gz', 'chr17')"
   ]
  },
  {
   "cell_type": "code",
   "execution_count": 48,
   "metadata": {},
   "outputs": [],
   "source": [
    "def compact(reader, index, delta=10):\n",
    "    variants_by_class = defaultdict(list)\n",
    "    calls = list()\n",
    "    for varcall in reader:\n",
    "        if varcall.filterstr != 'PASS':\n",
    "            continue\n",
    "        callclass = varcall.attribute('CALLCLASS')\n",
    "        if callclass is None:\n",
    "            calls.append(varcall)\n",
    "        else:\n",
    "            variants_by_class[callclass].append(varcall)\n",
    "    \n",
    "    for callclass, calllist in variants_by_class.items():\n",
    "        nmatches = 0\n",
    "        match = None\n",
    "        for varcall in calllist:\n",
    "            hits = index.query(varcall.seqid, varcall.position, delta=delta)\n",
    "            if hits == set():\n",
    "                continue\n",
    "            else:\n",
    "                nmatches += 1\n",
    "                if match is None:\n",
    "                    match = varcall\n",
    "                    localfound = hits\n",
    "        if nmatches == 0:\n",
    "            calls.append(calllist[0])\n",
    "        else:\n",
    "            assert nmatches > 0, nmatches\n",
    "            if nmatches > 1:\n",
    "                print('WARNING: found', nmatches, 'matches for CALLCLASS',\n",
    "                      callclass, file=sys.stderr)\n",
    "            calls.append(match)\n",
    "    \n",
    "    return calls"
   ]
  },
  {
   "cell_type": "code",
   "execution_count": 49,
   "metadata": {},
   "outputs": [],
   "source": [
    "def roc_kevlar(filename, index, delta=30):\n",
    "    reader = kevlar.vcf.VCFReader(kevlar.open(filename, 'r'))\n",
    "    calls = compact(reader, index, delta=delta)\n",
    "    nvariants = len(index.trees['chr17'])\n",
    "    correct = 0\n",
    "    false = 0\n",
    "    tprs = list()\n",
    "    for varcall in calls:\n",
    "        valid = index.query(varcall.seqid, varcall.position, delta=delta) != set()\n",
    "        if valid:\n",
    "            correct += 1\n",
    "            continue\n",
    "        tpr = correct / nvariants\n",
    "        tprs.append(tpr)\n",
    "        false += 1\n",
    "    return tprs"
   ]
  },
  {
   "cell_type": "code",
   "execution_count": 60,
   "metadata": {},
   "outputs": [],
   "source": [
    "def roc_gatk(filename, index, delta=30):\n",
    "    gatkdata = pandas.read_table('GATK_calls_30x.mvf.gz', sep='\\t').sort_values('CHILD_DP', ascending=False)\n",
    "    nvariants = len(index.trees['chr17'])\n",
    "    correct = 0\n",
    "    false = 0\n",
    "    tprs = list()\n",
    "    for rowindex, row in gatkdata.iterrows():\n",
    "        valid = index.query(row['CHROM'], row['POS'], delta=delta) != set()\n",
    "        if valid:\n",
    "            correct += 1\n",
    "            continue\n",
    "        tpr = correct / nvariants\n",
    "        tprs.append(tpr)\n",
    "        false += 1\n",
    "    return tprs"
   ]
  },
  {
   "cell_type": "code",
   "execution_count": 51,
   "metadata": {},
   "outputs": [
    {
     "name": "stderr",
     "output_type": "stream",
     "text": [
      "WARNING: found 2 matches for CALLCLASS 302\n",
      "WARNING: found 2 matches for CALLCLASS 1182\n",
      "WARNING: found 2 matches for CALLCLASS 1152\n",
      "WARNING: found 2 matches for CALLCLASS 79\n",
      "WARNING: found 2 matches for CALLCLASS 1264\n",
      "WARNING: found 4 matches for CALLCLASS 904\n"
     ]
    }
   ],
   "source": [
    "reader = kevlar.vcf.VCFReader(kevlar.open('kevlar_calls_30x.vcf.gz', 'r'))\n",
    "calls = compact(reader, index, delta=30)"
   ]
  },
  {
   "cell_type": "code",
   "execution_count": 52,
   "metadata": {},
   "outputs": [],
   "source": [
    "nvariants = len(index.trees['chr17'])\n",
    "correct = 0\n",
    "false = 0\n",
    "tprs = list()\n",
    "for varcall in calls:\n",
    "    valid = index.query(varcall.seqid, varcall.position, delta=30) != set()\n",
    "    if valid:\n",
    "        correct += 1\n",
    "        continue\n",
    "    tpr = correct / nvariants\n",
    "    tprs.append(tpr)\n",
    "    false += 1"
   ]
  },
  {
   "cell_type": "code",
   "execution_count": 53,
   "metadata": {},
   "outputs": [
    {
     "data": {
      "image/png": "[encoded data removed]",
      "text/plain": [
       "<matplotlib.figure.Figure at 0x11251a898>"
      ]
     },
     "metadata": {},
     "output_type": "display_data"
    }
   ],
   "source": [
    "_ = plt.plot(range(len(tprs)), tprs, color='red')\n",
    "_ = plt.xlabel('False calls')\n",
    "_ = plt.ylabel('True positive rate')"
   ]
  },
  {
   "cell_type": "code",
   "execution_count": 54,
   "metadata": {},
   "outputs": [
    {
     "data": {
      "text/html": [
       "<div>\n",
       "<style scoped>\n",
       "    .dataframe tbody tr th:only-of-type {\n",
       "        vertical-align: middle;\n",
       "    }\n",
       "\n",
       "    .dataframe tbody tr th {\n",
       "        vertical-align: top;\n",
       "    }\n",
       "\n",
       "    .dataframe thead th {\n",
       "        text-align: right;\n",
       "    }\n",
       "</style>\n",
       "<table border=\"1\" class=\"dataframe\">\n",
       "  <thead>\n",
       "    <tr style=\"text-align: right;\">\n",
       "      <th></th>\n",
       "      <th>CHROM</th>\n",
       "      <th>POS</th>\n",
       "      <th>AC</th>\n",
       "      <th>FAMILY</th>\n",
       "      <th>TP</th>\n",
       "      <th>MOTHER_GT</th>\n",
       "      <th>MOTHER_DP</th>\n",
       "      <th>MOTHER_AD</th>\n",
       "      <th>MOTHER_PL</th>\n",
       "      <th>FATHER_GT</th>\n",
       "      <th>FATHER_DP</th>\n",
       "      <th>FATHER_AD</th>\n",
       "      <th>FATHER_PL</th>\n",
       "      <th>CHILD_GT</th>\n",
       "      <th>CHILD_DP</th>\n",
       "      <th>CHILD_AD</th>\n",
       "      <th>CHILD_PL</th>\n",
       "    </tr>\n",
       "  </thead>\n",
       "  <tbody>\n",
       "    <tr>\n",
       "      <th>562</th>\n",
       "      <td>chr17</td>\n",
       "      <td>77821226</td>\n",
       "      <td>1</td>\n",
       "      <td>30</td>\n",
       "      <td>91.0</td>\n",
       "      <td>GGTGAGTGTCACGCAAGCATTCAATGCTCCCTAGAGGATGTGGCCA...</td>\n",
       "      <td>59</td>\n",
       "      <td>58,1</td>\n",
       "      <td>0,172,2585</td>\n",
       "      <td>GGTGAGTGTCACGCAAGCATTCAATGCTCCCTAGAGGATGTGGCCA...</td>\n",
       "      <td>71</td>\n",
       "      <td>71,0</td>\n",
       "      <td>0,205,3150</td>\n",
       "      <td>GGTGAGTGTCACGCAAGCATTCAATGCTCCCTAGAGGATGTGGCCA...</td>\n",
       "      <td>63</td>\n",
       "      <td>35,28</td>\n",
       "      <td>594,0,1400</td>\n",
       "    </tr>\n",
       "    <tr>\n",
       "      <th>523</th>\n",
       "      <td>chr17</td>\n",
       "      <td>72542626</td>\n",
       "      <td>1</td>\n",
       "      <td>30</td>\n",
       "      <td>80.0</td>\n",
       "      <td>CTTCCCTCCTACCGTCCAGCCCCACTTTGTCTGTGTTCCTCATCAG...</td>\n",
       "      <td>53</td>\n",
       "      <td>53,0</td>\n",
       "      <td>0,161,2406</td>\n",
       "      <td>CTTCCCTCCTACCGTCCAGCCCCACTTTGTCTGTGTTCCTCATCAG...</td>\n",
       "      <td>68</td>\n",
       "      <td>66,2</td>\n",
       "      <td>0,191,3068</td>\n",
       "      <td>CTTCCCTCCTACCGTCCAGCCCCACTTTGTCTGTGTTCCTCATCAG...</td>\n",
       "      <td>56</td>\n",
       "      <td>36,20</td>\n",
       "      <td>571,0,1449</td>\n",
       "    </tr>\n",
       "    <tr>\n",
       "      <th>349</th>\n",
       "      <td>chr17</td>\n",
       "      <td>51352968</td>\n",
       "      <td>1</td>\n",
       "      <td>30</td>\n",
       "      <td>28.0</td>\n",
       "      <td>AATCATGTCTCAGAGCAGCTCTGTGGGCTCGTTGTCTCAGGAGATG...</td>\n",
       "      <td>52</td>\n",
       "      <td>52,0</td>\n",
       "      <td>0,157,2340</td>\n",
       "      <td>AATCATGTCTCAGAGCAGCTCTGTGGGCTCGTTGTCTCAGGAGATG...</td>\n",
       "      <td>36</td>\n",
       "      <td>36,0</td>\n",
       "      <td>0,108,1589</td>\n",
       "      <td>AATCATGTCTCAGAGCAGCTCTGTGGGCTCGTTGTCTCAGGAGATG...</td>\n",
       "      <td>51</td>\n",
       "      <td>31,20</td>\n",
       "      <td>754,0,1217</td>\n",
       "    </tr>\n",
       "    <tr>\n",
       "      <th>263</th>\n",
       "      <td>chr17</td>\n",
       "      <td>40554111</td>\n",
       "      <td>1</td>\n",
       "      <td>30</td>\n",
       "      <td>54.0</td>\n",
       "      <td>CTGTTGAGAGCCTGGGAGGGCGACGCGGCAAGTGAGGGGATGAGTG...</td>\n",
       "      <td>61</td>\n",
       "      <td>59,2</td>\n",
       "      <td>0,174,2628</td>\n",
       "      <td>CTGTTGAGAGCCTGGGAGGGCGACGCGGCAAGTGAGGGGATGAGTG...</td>\n",
       "      <td>48</td>\n",
       "      <td>46,2</td>\n",
       "      <td>0,135,2064</td>\n",
       "      <td>CTGTTGAGAGCCTGGGAGGGCGACGCGGCAAGTGAGGGGATGAGTG...</td>\n",
       "      <td>51</td>\n",
       "      <td>30,21</td>\n",
       "      <td>560,0,1200</td>\n",
       "    </tr>\n",
       "    <tr>\n",
       "      <th>471</th>\n",
       "      <td>chr17</td>\n",
       "      <td>64966133</td>\n",
       "      <td>1</td>\n",
       "      <td>30</td>\n",
       "      <td>7.0</td>\n",
       "      <td>TTCGATTTTAGCAC/TTCGATTTTAGCAC</td>\n",
       "      <td>29</td>\n",
       "      <td>29,0</td>\n",
       "      <td>0,87,1481</td>\n",
       "      <td>TTCGATTTTAGCAC/TTCGATTTTAGCAC</td>\n",
       "      <td>36</td>\n",
       "      <td>36,0</td>\n",
       "      <td>0,108,1685</td>\n",
       "      <td>TTCGATTTTAGCAC/T</td>\n",
       "      <td>50</td>\n",
       "      <td>30,20</td>\n",
       "      <td>751,0,1370</td>\n",
       "    </tr>\n",
       "  </tbody>\n",
       "</table>\n",
       "</div>"
      ],
      "text/plain": [
       "     CHROM       POS  AC  FAMILY    TP  \\\n",
       "562  chr17  77821226   1      30  91.0   \n",
       "523  chr17  72542626   1      30  80.0   \n",
       "349  chr17  51352968   1      30  28.0   \n",
       "263  chr17  40554111   1      30  54.0   \n",
       "471  chr17  64966133   1      30   7.0   \n",
       "\n",
       "                                             MOTHER_GT  MOTHER_DP MOTHER_AD  \\\n",
       "562  GGTGAGTGTCACGCAAGCATTCAATGCTCCCTAGAGGATGTGGCCA...         59      58,1   \n",
       "523  CTTCCCTCCTACCGTCCAGCCCCACTTTGTCTGTGTTCCTCATCAG...         53      53,0   \n",
       "349  AATCATGTCTCAGAGCAGCTCTGTGGGCTCGTTGTCTCAGGAGATG...         52      52,0   \n",
       "263  CTGTTGAGAGCCTGGGAGGGCGACGCGGCAAGTGAGGGGATGAGTG...         61      59,2   \n",
       "471                      TTCGATTTTAGCAC/TTCGATTTTAGCAC         29      29,0   \n",
       "\n",
       "      MOTHER_PL                                          FATHER_GT  FATHER_DP  \\\n",
       "562  0,172,2585  GGTGAGTGTCACGCAAGCATTCAATGCTCCCTAGAGGATGTGGCCA...         71   \n",
       "523  0,161,2406  CTTCCCTCCTACCGTCCAGCCCCACTTTGTCTGTGTTCCTCATCAG...         68   \n",
       "349  0,157,2340  AATCATGTCTCAGAGCAGCTCTGTGGGCTCGTTGTCTCAGGAGATG...         36   \n",
       "263  0,174,2628  CTGTTGAGAGCCTGGGAGGGCGACGCGGCAAGTGAGGGGATGAGTG...         48   \n",
       "471   0,87,1481                      TTCGATTTTAGCAC/TTCGATTTTAGCAC         36   \n",
       "\n",
       "    FATHER_AD   FATHER_PL                                           CHILD_GT  \\\n",
       "562      71,0  0,205,3150  GGTGAGTGTCACGCAAGCATTCAATGCTCCCTAGAGGATGTGGCCA...   \n",
       "523      66,2  0,191,3068  CTTCCCTCCTACCGTCCAGCCCCACTTTGTCTGTGTTCCTCATCAG...   \n",
       "349      36,0  0,108,1589  AATCATGTCTCAGAGCAGCTCTGTGGGCTCGTTGTCTCAGGAGATG...   \n",
       "263      46,2  0,135,2064  CTGTTGAGAGCCTGGGAGGGCGACGCGGCAAGTGAGGGGATGAGTG...   \n",
       "471      36,0  0,108,1685                                   TTCGATTTTAGCAC/T   \n",
       "\n",
       "     CHILD_DP CHILD_AD    CHILD_PL  \n",
       "562        63    35,28  594,0,1400  \n",
       "523        56    36,20  571,0,1449  \n",
       "349        51    31,20  754,0,1217  \n",
       "263        51    30,21  560,0,1200  \n",
       "471        50    30,20  751,0,1370  "
      ]
     },
     "execution_count": 54,
     "metadata": {},
     "output_type": "execute_result"
    }
   ],
   "source": [
    "gatk30x = pandas.read_table('GATK_calls_30x.mvf.gz', sep='\\t').sort_values('CHILD_DP', ascending=False)\n",
    "gatk30x.head()"
   ]
  },
  {
   "cell_type": "code",
   "execution_count": 55,
   "metadata": {},
   "outputs": [],
   "source": [
    "nvariants = len(index.trees['chr17'])\n",
    "correct = 0\n",
    "false = 0\n",
    "tprs = list()\n",
    "for rowindex, row in gatk30x.iterrows():\n",
    "    valid = index.query(row['CHROM'], row['POS'], delta=30) != set()\n",
    "    if valid:\n",
    "        correct += 1\n",
    "        continue\n",
    "    tpr = correct / nvariants\n",
    "    tprs.append(tpr)\n",
    "    false += 1"
   ]
  },
  {
   "cell_type": "code",
   "execution_count": 56,
   "metadata": {},
   "outputs": [
    {
     "data": {
      "image/png": "[encoded data removed]",
      "text/plain": [
       "<matplotlib.figure.Figure at 0x112d756d8>"
      ]
     },
     "metadata": {},
     "output_type": "display_data"
    }
   ],
   "source": [
    "_ = plt.plot(range(len(tprs)), tprs, color='red')\n",
    "_ = plt.xlabel('False calls')\n",
    "_ = plt.ylabel('True positive rate')"
   ]
  },
  {
   "cell_type": "code",
   "execution_count": 63,
   "metadata": {},
   "outputs": [
    {
     "name": "stderr",
     "output_type": "stream",
     "text": [
      "WARNING: found 2 matches for CALLCLASS 302\n",
      "WARNING: found 2 matches for CALLCLASS 1182\n",
      "WARNING: found 2 matches for CALLCLASS 1152\n",
      "WARNING: found 2 matches for CALLCLASS 79\n",
      "WARNING: found 2 matches for CALLCLASS 1264\n",
      "WARNING: found 4 matches for CALLCLASS 904\n"
     ]
    },
    {
     "data": {
      "image/png": "[encoded data removed]",
      "text/plain": [
       "<matplotlib.figure.Figure at 0x10b48a320>"
      ]
     },
     "metadata": {},
     "output_type": "display_data"
    }
   ],
   "source": [
    "kevlar30x = roc_kevlar('kevlar_calls_30x.vcf.gz', index)\n",
    "gatk30x = roc_gatk('GATK_calls_30x.mvf.gz', index)\n",
    "\n",
    "_ = plt.plot(range(len(kevlar30x)), kevlar30x, color='red')\n",
    "_ = plt.plot(range(len(gatk30x)), gatk30x, color='blue')\n",
    "_ = plt.xlabel('False calls')\n",
    "_ = plt.ylabel('True positive rate')"
   ]
  },
  {
   "cell_type": "code",
   "execution_count": null,
   "metadata": {},
   "outputs": [],
   "source": []
  }
 ],
 "metadata": {
  "kernelspec": {
   "display_name": "Python 3",
   "language": "python",
   "name": "python3"
  },
  "language_info": {
   "codemirror_mode": {
    "name": "ipython",
    "version": 3
   },
   "file_extension": ".py",
   "mimetype": "text/x-python",
   "name": "python",
   "nbconvert_exporter": "python",
   "pygments_lexer": "ipython3",
   "version": "3.6.3"
  }
 },
 "nbformat": 4,
 "nbformat_minor": 2
}
