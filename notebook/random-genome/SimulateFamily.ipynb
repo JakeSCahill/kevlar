{
 "cells": [
  {
   "cell_type": "code",
   "execution_count": 1,
   "metadata": {
    "collapsed": true
   },
   "outputs": [],
   "source": [
    "!rm -f bogus-genome.fa"
   ]
  },
  {
   "cell_type": "code",
   "execution_count": 2,
   "metadata": {
    "collapsed": true
   },
   "outputs": [],
   "source": [
    "import random\n",
    "import subprocess\n",
    "import sys\n",
    "\n",
    "import kevlar"
   ]
  },
  {
   "cell_type": "code",
   "execution_count": 3,
   "metadata": {
    "collapsed": false
   },
   "outputs": [],
   "source": [
    "random.seed(42)\n",
    "\n",
    "try:\n",
    "    maxint = sys.maxint\n",
    "except:\n",
    "    maxint = sys.maxsize\n",
    "\n",
    "for chrm in range(1, 6):\n",
    "    defline = '>bogus_chr{:d}'.format(chrm)\n",
    "    cmd = 'echo \"{}\" >> bogus-genome.fa'.format(defline)\n",
    "    subprocess.check_call(cmd, shell=True)\n",
    "\n",
    "    for i in range(1, 11):\n",
    "        seed = random.randint(1, maxint)\n",
    "        cmd = '../nullgraph/make-random-genome.py --length 250000 --seed {} | grep -v \"^>\" >> bogus-genome.fa'.format(seed)\n",
    "        subprocess.check_call(cmd, shell=True)"
   ]
  },
  {
   "cell_type": "code",
   "execution_count": 4,
   "metadata": {
    "collapsed": false
   },
   "outputs": [
    {
     "name": "stderr",
     "output_type": "stream",
     "text": [
      "[kevlar::mutate] loading mutations\n",
      "[kevlar::mutate] mutating genome\n",
      "[kevlar::mutate] loading mutations\n",
      "[kevlar::mutate] mutating genome\n",
      "[kevlar::mutate] loading mutations\n",
      "[kevlar::mutate] mutating genome\n"
     ]
    }
   ],
   "source": [
    "arglist = ['mutate', '-o', 'proband-genome.fa', 'proband-mutations.txt', 'bogus-genome.fa']\n",
    "args = kevlar.cli.parser().parse_args(arglist)\n",
    "kevlar.mutate.main(args)\n",
    "\n",
    "arglist = ['mutate', '-o', 'mother-genome.fa', 'mother-mutations.txt', 'bogus-genome.fa']\n",
    "args = kevlar.cli.parser().parse_args(arglist)\n",
    "kevlar.mutate.main(args)\n",
    "\n",
    "arglist = ['mutate', '-o', 'father-genome.fa', 'father-mutations.txt', 'bogus-genome.fa']\n",
    "args = kevlar.cli.parser().parse_args(arglist)\n",
    "kevlar.mutate.main(args)"
   ]
  },
  {
   "cell_type": "code",
   "execution_count": 17,
   "metadata": {
    "collapsed": false
   },
   "outputs": [
    {
     "data": {
      "text/plain": [
       "0"
      ]
     },
     "execution_count": 17,
     "metadata": {},
     "output_type": "execute_result"
    }
   ],
   "source": [
    "random.seed(98765432)\n",
    "\n",
    "seed = random.randint(1, maxint)\n",
    "cmd = 'wgsim -e 0.005 -r 0.0 -d 450 -s 50 -N 1500000 -1 125 -2 125 -S {} proband-genome.fa proband-reads-1.fq proband-reads-2.fq'.format(seed)\n",
    "subprocess.call(cmd, shell=True)\n",
    "\n",
    "seed = random.randint(1, maxint)\n",
    "cmd = 'wgsim -e 0.005 -r 0.0 -d 450 -s 50 -N 1500000 -1 125 -2 125 -S {} mother-genome.fa mother-reads-1.fq mother-reads-2.fq'.format(seed)\n",
    "subprocess.call(cmd, shell=True)\n",
    "\n",
    "seed = random.randint(1, maxint)\n",
    "cmd = 'wgsim -e 0.005 -r 0.0 -d 450 -s 50 -N 1500000 -1 125 -2 125 -S {} father-genome.fa father-reads-1.fq father-reads-2.fq'.format(seed)\n",
    "subprocess.call(cmd, shell=True)"
   ]
  },
  {
   "cell_type": "code",
   "execution_count": 18,
   "metadata": {
    "collapsed": false
   },
   "outputs": [
    {
     "data": {
      "text/plain": [
       "0"
      ]
     },
     "execution_count": 18,
     "metadata": {},
     "output_type": "execute_result"
    }
   ],
   "source": [
    "random.seed(246813579)\n",
    "\n",
    "seed = random.randint(1, maxint)\n",
    "cmd = 'wgsim -e 0.0 -r 0.0 -d 450 -s 50 -N 1500000 -1 125 -2 125 -S {} proband-genome.fa proband-reads-noerror-1.fq proband-reads-noerror-2.fq'.format(seed)\n",
    "subprocess.call(cmd, shell=True)\n",
    "\n",
    "seed = random.randint(1, maxint)\n",
    "cmd = 'wgsim -e 0.0 -r 0.0 -d 450 -s 50 -N 1500000 -1 125 -2 125 -S {} mother-genome.fa mother-reads-noerror-1.fq mother-reads-noerror-2.fq'.format(seed)\n",
    "subprocess.call(cmd, shell=True)\n",
    "\n",
    "seed = random.randint(1, maxint)\n",
    "cmd = 'wgsim -e 0.0 -r 0.0 -d 450 -s 50 -N 1500000 -1 125 -2 125 -S {} father-genome.fa father-reads-noerror-1.fq father-reads-noerror-2.fq'.format(seed)\n",
    "subprocess.call(cmd, shell=True)"
   ]
  },
  {
   "cell_type": "code",
   "execution_count": 14,
   "metadata": {
    "collapsed": false
   },
   "outputs": [
    {
     "data": {
      "text/plain": [
       "30.0"
      ]
     },
     "execution_count": 14,
     "metadata": {},
     "output_type": "execute_result"
    }
   ],
   "source": [
    "1.5e6 * 250 / 1.25e7"
   ]
  },
  {
   "cell_type": "code",
   "execution_count": null,
   "metadata": {
    "collapsed": true
   },
   "outputs": [],
   "source": []
  }
 ],
 "metadata": {
  "kernelspec": {
   "display_name": "Python 3",
   "language": "python",
   "name": "python3"
  },
  "language_info": {
   "codemirror_mode": {
    "name": "ipython",
    "version": 3
   },
   "file_extension": ".py",
   "mimetype": "text/x-python",
   "name": "python",
   "nbconvert_exporter": "python",
   "pygments_lexer": "ipython3",
   "version": "3.5.2"
  }
 },
 "nbformat": 4,
 "nbformat_minor": 2
}
